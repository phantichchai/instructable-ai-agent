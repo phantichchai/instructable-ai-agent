{
 "cells": [
  {
   "cell_type": "code",
   "execution_count": 1,
   "id": "bd7781d6-0b3e-4ed4-9099-7f95bbc8b12e",
   "metadata": {},
   "outputs": [
    {
     "name": "stderr",
     "output_type": "stream",
     "text": [
      "/home/phantichchai/anaconda3/envs/multi-transformer/lib/python3.10/site-packages/tqdm/auto.py:21: TqdmWarning: IProgress not found. Please update jupyter and ipywidgets. See https://ipywidgets.readthedocs.io/en/stable/user_install.html\n",
      "  from .autonotebook import tqdm as notebook_tqdm\n"
     ]
    }
   ],
   "source": [
    "from data.dataset import GameplayActionPairVideoDataset\n",
    "from torch.utils.data import Dataset, DataLoader\n",
    "from transformers import BertTokenizer\n",
    "import torch\n",
    "from tools.utils import custom_collate_fn\n",
    "from model.agent import Agent, device, AgentConfig\n",
    "from torch import nn, optim\n",
    "from model.action_loss import ActionLoss\n",
    "from model.cvivit import CvivitConfig\n",
    "from model.encoder import MultiModelEncoderConfig\n",
    "from model.decoder import MultiModelDecoderConfig"
   ]
  },
  {
   "cell_type": "code",
   "execution_count": 2,
   "id": "eb8e5664-7842-4a9e-ab5d-9f3e0d6145a7",
   "metadata": {},
   "outputs": [],
   "source": [
    "root_dir = \"output_logs\""
   ]
  },
  {
   "cell_type": "code",
   "execution_count": 3,
   "id": "e50cc19f-4e0b-4f1e-bb94-a4737ac44936",
   "metadata": {},
   "outputs": [],
   "source": [
    "dataset = GameplayActionPairVideoDataset(root_dir=root_dir, image_size=(224, 224))"
   ]
  },
  {
   "cell_type": "code",
   "execution_count": 4,
   "id": "c4f7f2f8-44cb-4726-8c78-491b5c3804bc",
   "metadata": {
    "scrolled": true
   },
   "outputs": [
    {
     "data": {
      "text/plain": [
       "<torch.utils.data.dataloader.DataLoader at 0x79274ff267a0>"
      ]
     },
     "execution_count": 4,
     "metadata": {},
     "output_type": "execute_result"
    }
   ],
   "source": [
    "dataloader = DataLoader(dataset, batch_size=1, shuffle=False, collate_fn=custom_collate_fn)\n",
    "dataloader"
   ]
  },
  {
   "cell_type": "code",
   "execution_count": 5,
   "id": "131543b9-bf1b-49a9-892c-d950ae0cbc31",
   "metadata": {},
   "outputs": [],
   "source": [
    "config = AgentConfig(\n",
    "    encoder_config=MultiModelEncoderConfig(\n",
    "        vit_model_name='google/vit-base-patch16-224-in21k',\n",
    "        language_model_name='bert-base-uncased',\n",
    "        cvivit_config=CvivitConfig(\n",
    "            image_size=224,\n",
    "            color_channel=3,\n",
    "            emb_size=768,\n",
    "            d_model=768,\n",
    "            patch_size=(2, 8, 8),\n",
    "            num_layers_spatial=2,\n",
    "            num_heads_spatial=4,\n",
    "            dim_feedforward_spatial=512,\n",
    "            dropout_spatial=0.1,\n",
    "            num_layers_temporal=2,\n",
    "            num_heads_temporal=4,\n",
    "            dim_feedforward_temporal=512,\n",
    "            dropout_temporal=0.1\n",
    "        )\n",
    "    ),\n",
    "    decoder_config=MultiModelDecoderConfig(\n",
    "        d_model=768,\n",
    "        dim_feedforward=512,\n",
    "        nhead=4,\n",
    "        num_layers=2\n",
    "    )\n",
    ")"
   ]
  },
  {
   "cell_type": "code",
   "execution_count": 6,
   "id": "227e2e86-d3d4-4066-a332-a7f6459c36f7",
   "metadata": {},
   "outputs": [
    {
     "name": "stderr",
     "output_type": "stream",
     "text": [
      "/home/phantichchai/anaconda3/envs/multi-transformer/lib/python3.10/site-packages/huggingface_hub/file_download.py:1132: FutureWarning: `resume_download` is deprecated and will be removed in version 1.0.0. Downloads always resume when possible. If you want to force a new download, use `force_download=True`.\n",
      "  warnings.warn(\n"
     ]
    }
   ],
   "source": [
    "agent = Agent(config=config, debug=False).to(device)"
   ]
  },
  {
   "cell_type": "code",
   "execution_count": 7,
   "id": "59db9cc5-4a73-4d03-b813-58e72ba55867",
   "metadata": {},
   "outputs": [],
   "source": [
    "criterion = ActionLoss()\n",
    "optimizer = optim.Adam(agent.parameters(), lr=0.001)"
   ]
  },
  {
   "cell_type": "code",
   "execution_count": 8,
   "id": "b41b3622-7890-4edd-b123-451f351afad4",
   "metadata": {},
   "outputs": [
    {
     "data": {
      "text/plain": [
       "{'size_all_mb': 869.2451820373535, 'parameter_size': 911461444}"
      ]
     },
     "execution_count": 8,
     "metadata": {},
     "output_type": "execute_result"
    }
   ],
   "source": [
    "agent.get_model_size() "
   ]
  },
  {
   "cell_type": "code",
   "execution_count": 9,
   "id": "e1a27841-c6a6-4dbc-a97a-6d104b7a66ba",
   "metadata": {},
   "outputs": [],
   "source": [
    "num_epochs = 100"
   ]
  },
  {
   "cell_type": "code",
   "execution_count": 10,
   "id": "a117ccd1-5bf3-4fe9-93c5-e62a4b273447",
   "metadata": {
    "scrolled": true
   },
   "outputs": [
    {
     "name": "stdout",
     "output_type": "stream",
     "text": [
      "Epoch [1/100], Loss: 112.6025\n",
      "Epoch [2/100], Loss: 109.6787\n",
      "Epoch [3/100], Loss: 109.4236\n",
      "Epoch [4/100], Loss: 107.5775\n",
      "Epoch [5/100], Loss: 108.2580\n",
      "Epoch [6/100], Loss: 106.5706\n",
      "Epoch [7/100], Loss: 104.3582\n",
      "Epoch [8/100], Loss: 104.3898\n",
      "Epoch [9/100], Loss: 106.3629\n",
      "Epoch [10/100], Loss: 106.5839\n",
      "Epoch [11/100], Loss: 108.6181\n",
      "Epoch [12/100], Loss: 109.2675\n",
      "Epoch [13/100], Loss: 107.6633\n",
      "Epoch [14/100], Loss: 103.5963\n",
      "Epoch [15/100], Loss: 99.3512\n",
      "Epoch [16/100], Loss: 106.6611\n",
      "Epoch [17/100], Loss: 108.3289\n",
      "Epoch [18/100], Loss: 114.1079\n",
      "Epoch [19/100], Loss: 106.7798\n",
      "Epoch [20/100], Loss: 104.5087\n",
      "Epoch [21/100], Loss: 112.2035\n",
      "Epoch [22/100], Loss: 103.0787\n",
      "Epoch [23/100], Loss: 104.2693\n",
      "Epoch [24/100], Loss: 106.4524\n",
      "Epoch [25/100], Loss: 106.1944\n",
      "Epoch [26/100], Loss: 102.4339\n",
      "Epoch [27/100], Loss: 105.6391\n",
      "Epoch [28/100], Loss: 106.7806\n",
      "Epoch [29/100], Loss: 109.8615\n",
      "Epoch [30/100], Loss: 107.0872\n",
      "Epoch [31/100], Loss: 105.4555\n",
      "Epoch [32/100], Loss: 107.0690\n",
      "Epoch [33/100], Loss: 111.9573\n",
      "Epoch [34/100], Loss: 111.2688\n",
      "Epoch [35/100], Loss: 111.7032\n",
      "Epoch [36/100], Loss: 118.8077\n",
      "Epoch [37/100], Loss: 120.0440\n",
      "Epoch [38/100], Loss: 113.6738\n",
      "Epoch [39/100], Loss: 114.8604\n",
      "Epoch [40/100], Loss: 117.5466\n",
      "Epoch [41/100], Loss: 116.0595\n",
      "Epoch [42/100], Loss: 108.3429\n",
      "Epoch [43/100], Loss: 120.2791\n",
      "Epoch [44/100], Loss: 116.8184\n",
      "Epoch [45/100], Loss: 113.3092\n",
      "Epoch [46/100], Loss: 119.4178\n",
      "Epoch [47/100], Loss: 113.6001\n",
      "Epoch [48/100], Loss: 112.7032\n",
      "Epoch [49/100], Loss: 114.0542\n",
      "Epoch [50/100], Loss: 114.1993\n",
      "Epoch [51/100], Loss: 112.0713\n",
      "Epoch [52/100], Loss: 113.9186\n",
      "Epoch [53/100], Loss: 116.9043\n",
      "Epoch [54/100], Loss: 116.9897\n",
      "Epoch [55/100], Loss: 121.2693\n",
      "Epoch [56/100], Loss: 115.0141\n",
      "Epoch [57/100], Loss: 112.9408\n",
      "Epoch [58/100], Loss: 115.4489\n",
      "Epoch [59/100], Loss: 112.3822\n",
      "Epoch [60/100], Loss: 116.1057\n",
      "Epoch [61/100], Loss: 118.6448\n",
      "Epoch [62/100], Loss: 117.8136\n",
      "Epoch [63/100], Loss: 118.8027\n",
      "Epoch [64/100], Loss: 120.8584\n",
      "Epoch [65/100], Loss: 117.5248\n",
      "Epoch [66/100], Loss: 114.2753\n",
      "Epoch [67/100], Loss: 112.9934\n",
      "Epoch [68/100], Loss: 115.7929\n",
      "Epoch [69/100], Loss: 114.7473\n",
      "Epoch [70/100], Loss: 115.7948\n",
      "Epoch [71/100], Loss: 125.7136\n",
      "Epoch [72/100], Loss: 121.6852\n",
      "Epoch [73/100], Loss: 114.4263\n",
      "Epoch [74/100], Loss: 110.3406\n",
      "Epoch [75/100], Loss: 115.4693\n",
      "Epoch [76/100], Loss: 112.6628\n",
      "Epoch [77/100], Loss: 116.2114\n",
      "Epoch [78/100], Loss: 115.5036\n",
      "Epoch [79/100], Loss: 114.1719\n",
      "Epoch [80/100], Loss: 113.5816\n",
      "Epoch [81/100], Loss: 116.2751\n",
      "Epoch [82/100], Loss: 113.7432\n",
      "Epoch [83/100], Loss: 115.9077\n",
      "Epoch [84/100], Loss: 124.0916\n",
      "Epoch [85/100], Loss: 115.4049\n",
      "Epoch [86/100], Loss: 115.6588\n",
      "Epoch [87/100], Loss: 113.1690\n",
      "Epoch [88/100], Loss: 117.3632\n",
      "Epoch [89/100], Loss: 117.3179\n",
      "Epoch [90/100], Loss: 116.7126\n",
      "Epoch [91/100], Loss: 112.1229\n",
      "Epoch [92/100], Loss: 121.1786\n",
      "Epoch [93/100], Loss: 115.1640\n",
      "Epoch [94/100], Loss: 118.1950\n",
      "Epoch [95/100], Loss: 115.8428\n",
      "Epoch [96/100], Loss: 112.0372\n",
      "Epoch [97/100], Loss: 114.3545\n",
      "Epoch [98/100], Loss: 114.9462\n",
      "Epoch [99/100], Loss: 114.0920\n",
      "Epoch [100/100], Loss: 116.9767\n"
     ]
    }
   ],
   "source": [
    "for epoch in range(num_epochs):\n",
    "    agent.train()\n",
    "    for batch, (instruction, frames, action) in enumerate(dataloader):\n",
    "        optimizer.zero_grad()\n",
    "        frames = frames.to(device)\n",
    "        action = action.to(device)\n",
    "        # print(f\"batch: {batch}\")\n",
    "        # print(f\"instruction: {instruction}\")\n",
    "        # print(f\"frames shape: {frames.shape}\")\n",
    "        # print(f\"action shape: {action.shape}\")\n",
    "        logits = agent(instruction, frames, action)\n",
    "        loss = criterion(logits, action)\n",
    "        loss.backward()\n",
    "        optimizer.step()\n",
    "    print(f\"Epoch [{epoch+1}/{num_epochs}], Loss: {loss.item():.4f}\")"
   ]
  },
  {
   "cell_type": "code",
   "execution_count": 35,
   "id": "30b07c99-3b12-473f-b971-3ca9511ceadd",
   "metadata": {
    "scrolled": true
   },
   "outputs": [],
   "source": [
    "(instruction, frames, ground_truth) = dataset[17]\n",
    "frames = frames.unsqueeze(0).to(device)\n",
    "ground_truth = ground_truth.to(device)\n",
    "action = agent.get_actions(frames, instruction)"
   ]
  },
  {
   "cell_type": "code",
   "execution_count": 51,
   "id": "aae97e85-4779-4d7a-b79e-61bf801a3d6d",
   "metadata": {},
   "outputs": [
    {
     "name": "stdout",
     "output_type": "stream",
     "text": [
      "action shape: torch.Size([1, 45, 12])\n",
      "action: tensor([[1., 1., 1., 1., 1., 1., 1., 1., 1., 1., 1., 1., 1., 1., 1., 1., 1., 1.,\n",
      "         1., 1., 1., 1., 1., 1., 1., 1., 1., 1., 1., 1., 1., 1., 1., 1., 1., 1.,\n",
      "         1., 1., 1., 1., 1., 1., 1., 1., 1.]], device='cuda:0')\n",
      "ground_truth: tensor([0., 0., 0., 0., 0., 0., 0., 0., 0., 0., 0., 0., 0., 0., 0., 0., 0., 0., 0., 0., 0., 0., 0., 0.,\n",
      "        0., 0., 0., 0., 0., 0., 0., 0., 0., 0., 0., 0., 0., 0., 0., 0., 0., 0., 0., 0., 0.],\n",
      "       device='cuda:0')\n"
     ]
    }
   ],
   "source": [
    "INDEX = 0\n",
    "print(f\"action shape: {action.shape}\")\n",
    "print(f\"action: {action[:, :, INDEX]}\")\n",
    "print(f\"ground_truth: {ground_truth[:, INDEX]}\")"
   ]
  },
  {
   "cell_type": "markdown",
   "id": "1c567867-ce3a-4bb3-a1dd-27e282210b61",
   "metadata": {
    "jp-MarkdownHeadingCollapsed": true
   },
   "source": [
    " "
   ]
  }
 ],
 "metadata": {
  "kernelspec": {
   "display_name": "Python 3 (ipykernel)",
   "language": "python",
   "name": "python3"
  },
  "language_info": {
   "codemirror_mode": {
    "name": "ipython",
    "version": 3
   },
   "file_extension": ".py",
   "mimetype": "text/x-python",
   "name": "python",
   "nbconvert_exporter": "python",
   "pygments_lexer": "ipython3",
   "version": "3.10.13"
  }
 },
 "nbformat": 4,
 "nbformat_minor": 5
}
