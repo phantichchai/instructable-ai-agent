{
 "cells": [
  {
   "cell_type": "code",
   "execution_count": 1,
   "id": "d727377d-d10c-453f-a375-38072f0909b7",
   "metadata": {},
   "outputs": [],
   "source": [
    "import torch\n",
    "import torch.nn as nn\n",
    "import math"
   ]
  },
  {
   "cell_type": "code",
   "execution_count": 2,
   "id": "79d6729c-be28-402f-b229-9fdc5229c756",
   "metadata": {},
   "outputs": [
    {
     "data": {
      "text/plain": [
       "'cuda'"
      ]
     },
     "execution_count": 2,
     "metadata": {},
     "output_type": "execute_result"
    }
   ],
   "source": [
    "device = \"cuda\" if torch.cuda.is_available() else \"cpu\"\n",
    "device"
   ]
  },
  {
   "cell_type": "code",
   "execution_count": 4,
   "id": "e9a75af6-f6a2-4c20-8852-9057d4c10101",
   "metadata": {},
   "outputs": [],
   "source": [
    "class PatchEmbedding(nn.Module):\n",
    "    def __init__(self, video_dimensions, patch_dim, emb_size):\n",
    "        super(PatchEmbedding, self).__init__()\n",
    "        self.patch_dim = patch_dim\n",
    "        self.emb_size = emb_size\n",
    "        self.channels = video_dimensions[1]\n",
    "        self.video_height = video_dimensions[2]\n",
    "        self.video_width = video_dimensions[3]\n",
    "        \n",
    "        self.patch_video = nn.Conv3d(in_channels=self.channels,\n",
    "                                    out_channels=self.emb_size,\n",
    "                                    kernel_size=self.patch_dim,\n",
    "                                    stride=self.patch_dim)\n",
    "        \n",
    "        self.patch_first_frame = nn.Conv2d(in_channels=self.channels,\n",
    "                                           out_channels=self.emb_size,\n",
    "                                           kernel_size=self.patch_dim[1:],\n",
    "                                           stride=self.patch_dim[1:])\n",
    "    \n",
    "    def forward(self, x):\n",
    "        first_frame, frames = torch.split(x, [1, x.size(1)-1], dim=1)\n",
    "        first_frame = first_frame.transpose(1, 2).squeeze(dim=2)\n",
    "        first_frame = self.patch_first_frame(first_frame)\n",
    "        first_frame = first_frame.unsqueeze(dim=2)\n",
    "        frames = frames.transpose(1, 2)\n",
    "        frames = self.patch_video(frames)\n",
    "        video_tokens = torch.cat([first_frame, frames], dim=2)\n",
    "        video_tokens = video_tokens.flatten(2).transpose(1, 2)\n",
    "        return video_tokens"
   ]
  },
  {
   "cell_type": "code",
   "execution_count": 5,
   "id": "89e2f0e2-8a47-4361-91c7-66c4fe69a568",
   "metadata": {},
   "outputs": [],
   "source": [
    "class TransformerEncoder3D(nn.Module):\n",
    "    def __init__(self, emb_size, num_layers, num_heads, dim_feedforward, dropout):\n",
    "        super(TransformerEncoder3D, self).__init__()\n",
    "        encoder_layer = nn.TransformerEncoderLayer(d_model=emb_size, nhead=num_heads, dim_feedforward=dim_feedforward, dropout=dropout, batch_first=True)\n",
    "        self.transformer_encoder = nn.TransformerEncoder(encoder_layer, num_layers=num_layers)\n",
    "        \n",
    "    def forward(self, x):\n",
    "        x = self.transformer_encoder(x)\n",
    "        return x"
   ]
  },
  {
   "cell_type": "code",
   "execution_count": 6,
   "id": "6db6682e-022e-4f79-9a80-5bba576b1953",
   "metadata": {},
   "outputs": [],
   "source": [
    "class CausalSelfAttention(nn.Module):\n",
    "    def __init__(self, emb_size, num_heads, dropout):\n",
    "        super(CausalSelfAttention, self).__init__()\n",
    "        self.attention = nn.MultiheadAttention(embed_dim=emb_size, num_heads=num_heads, dropout=dropout)\n",
    "        self.mask = None\n",
    "\n",
    "    def forward(self, x):\n",
    "        seq_len = x.size(0)\n",
    "        if self.mask is None or self.mask.size(0) != seq_len:\n",
    "            self.mask = torch.triu(torch.ones(seq_len, seq_len), diagonal=1).bool().to(x.device)\n",
    "        attn_output, _ = self.attention(x, x, x, attn_mask=self.mask)\n",
    "        return attn_output\n",
    "\n",
    "class TemporalTransformerEncoder(nn.Module):\n",
    "    def __init__(self, emb_size, num_layers, num_heads, dim_feedforward, dropout):\n",
    "        super(TemporalTransformerEncoder, self).__init__()\n",
    "        self.layers = nn.ModuleList([\n",
    "            nn.TransformerEncoderLayer(d_model=emb_size, nhead=num_heads, dim_feedforward=dim_feedforward, dropout=dropout)\n",
    "            for _ in range(num_layers)\n",
    "        ])\n",
    "        self.causal_attention = CausalSelfAttention(emb_size, num_heads, dropout)\n",
    "        \n",
    "    def forward(self, x):\n",
    "        x = x.transpose(0, 1)  # Transformer expects sequence as first dimension\n",
    "        x = self.causal_attention(x)\n",
    "        for layer in self.layers:\n",
    "            x = layer(x)\n",
    "        x = x.transpose(0, 1)  # Revert back to original dimensions\n",
    "        return x"
   ]
  },
  {
   "cell_type": "code",
   "execution_count": 7,
   "id": "8fb5a914-0046-40fc-b5bf-23b7561bf8ac",
   "metadata": {},
   "outputs": [],
   "source": [
    "class VideoTransformerModel(nn.Module):\n",
    "    def __init__(self, \n",
    "                 video_dimension, \n",
    "                 emb_size,\n",
    "                 d_model,\n",
    "                 patch_size, \n",
    "                 num_layers_spatial, \n",
    "                 num_heads_spatial, \n",
    "                 dim_feedforward_spatial, \n",
    "                 dropout_spatial, \n",
    "                 num_layers_temporal, \n",
    "                 num_heads_temporal, \n",
    "                 dim_feedforward_temporal, \n",
    "                 dropout_temporal):\n",
    "        super(VideoTransformerModel, self).__init__()\n",
    "        self.patch_embedding = PatchEmbedding(video_dimension, patch_size, emb_size)\n",
    "        self.spatial_transformer = TransformerEncoder3D(d_model, num_layers_spatial, num_heads_spatial, dim_feedforward_spatial, dropout_spatial)\n",
    "        self.temporal_transformer = TemporalTransformerEncoder(d_model, num_layers_temporal, num_heads_temporal, dim_feedforward_temporal, dropout_temporal)\n",
    "        \n",
    "    def forward(self, x):\n",
    "        patches = self.patch_embedding(x)\n",
    "        spatial_dims = patches.shape\n",
    "        # print(f\"Patches: {patches.shape}\")\n",
    "        spatially_encoded_patches = self.spatial_transformer(patches)\n",
    "        # print(f\"Spatial: {spatially_encoded_patches.shape}\")\n",
    "        temporally_encoded_patches = self.temporal_transformer(spatially_encoded_patches)\n",
    "        # print(f\"Temporal: {temporally_encoded_patches.shape}\")\n",
    "        batch_size = temporally_encoded_patches.size(0)\n",
    "        return temporally_encoded_patches"
   ]
  },
  {
   "cell_type": "code",
   "execution_count": 16,
   "id": "f183261b-a97d-4052-a577-ba3598fdf0e4",
   "metadata": {},
   "outputs": [
    {
     "name": "stdout",
     "output_type": "stream",
     "text": [
      "Output shape: torch.Size([1, 3136, 768])\n"
     ]
    }
   ],
   "source": [
    "with torch.inference_mode():\n",
    "    model = VideoTransformerModel(\n",
    "        video_dimension=(11, 3, 224, 224),\n",
    "        emb_size=768,\n",
    "        d_model=768,\n",
    "        patch_size=(2, 16, 16),\n",
    "        num_layers_spatial=4,\n",
    "        num_heads_spatial=8,\n",
    "        dim_feedforward_spatial=2048,\n",
    "        dropout_spatial=0.1,\n",
    "        num_layers_temporal=4, \n",
    "        num_heads_temporal=8,\n",
    "        dim_feedforward_temporal=2048,\n",
    "        dropout_temporal=0.1\n",
    "    ).to(device)\n",
    "    inputs = torch.randn(1, 32, 3, 224, 224).to(device)\n",
    "    outputs = model(inputs)\n",
    "    print(f\"Output shape: {outputs.shape}\")"
   ]
  },
  {
   "cell_type": "code",
   "execution_count": 76,
   "id": "351e3b7e-f386-4941-918e-477ef2983088",
   "metadata": {
    "scrolled": true
   },
   "outputs": [
    {
     "name": "stdout",
     "output_type": "stream",
     "text": [
      "PatchEmbedding shape: torch.Size([2, 3136, 768])\n"
     ]
    }
   ],
   "source": [
    "with torch.inference_mode():\n",
    "    model = PatchEmbedding((32, 3, 224, 224), (2, 16, 16), 768).to(device)\n",
    "    outputs = model(torch.rand(2, 32, 3, 224, 224).to(device))\n",
    "    print(f\"PatchEmbedding shape: {outputs.shape}\")"
   ]
  },
  {
   "cell_type": "code",
   "execution_count": 9,
   "id": "6b5ac2c6-26e1-4c77-ab26-f78f74930463",
   "metadata": {},
   "outputs": [
    {
     "name": "stdout",
     "output_type": "stream",
     "text": [
      "Output shape: torch.Size([2, 3136, 768])\n"
     ]
    }
   ],
   "source": [
    "model = VideoTransformerModel(\n",
    "        video_dimension=(11, 3, 224, 224),\n",
    "        emb_size=768,\n",
    "        d_model=768,\n",
    "        patch_size=(2, 16, 16),\n",
    "        num_layers_spatial=4,\n",
    "        num_heads_spatial=8,\n",
    "        dim_feedforward_spatial=2048,\n",
    "        dropout_spatial=0.1,\n",
    "        num_layers_temporal=4, \n",
    "        num_heads_temporal=8,\n",
    "        dim_feedforward_temporal=2048,\n",
    "        dropout_temporal=0.1\n",
    "    ).to(device)\n",
    "inputs = torch.randn(2, 32, 3, 224, 224).to(device)\n",
    "outputs = model(inputs)\n",
    "print(f\"Output shape: {outputs.shape}\")"
   ]
  }
 ],
 "metadata": {
  "kernelspec": {
   "display_name": "Python 3 (ipykernel)",
   "language": "python",
   "name": "python3"
  },
  "language_info": {
   "codemirror_mode": {
    "name": "ipython",
    "version": 3
   },
   "file_extension": ".py",
   "mimetype": "text/x-python",
   "name": "python",
   "nbconvert_exporter": "python",
   "pygments_lexer": "ipython3",
   "version": "3.10.13"
  }
 },
 "nbformat": 4,
 "nbformat_minor": 5
}
