{
 "cells": [
  {
   "cell_type": "code",
   "execution_count": 1,
   "id": "bd7781d6-0b3e-4ed4-9099-7f95bbc8b12e",
   "metadata": {},
   "outputs": [
    {
     "name": "stderr",
     "output_type": "stream",
     "text": [
      "/home/phantichchai/anaconda3/envs/multi-transformer/lib/python3.10/site-packages/tqdm/auto.py:21: TqdmWarning: IProgress not found. Please update jupyter and ipywidgets. See https://ipywidgets.readthedocs.io/en/stable/user_install.html\n",
      "  from .autonotebook import tqdm as notebook_tqdm\n"
     ]
    }
   ],
   "source": [
    "from data.dataset import GameplayActionPairVideoDataset\n",
    "from torch.utils.data import Dataset, DataLoader\n",
    "from transformers import BertTokenizer\n",
    "import torch\n",
    "from tools.utils import custom_collate_fn\n",
    "from model.agent import Agent, device, AgentConfig\n",
    "from torch import nn, optim\n",
    "from model.action_loss import ActionLoss\n",
    "from model.cvivit import CvivitConfig\n",
    "from model.encoder import MultiModelEncoderConfig\n",
    "from model.decoder import MultiModelDecoderConfig"
   ]
  },
  {
   "cell_type": "code",
   "execution_count": 2,
   "id": "eb8e5664-7842-4a9e-ab5d-9f3e0d6145a7",
   "metadata": {},
   "outputs": [],
   "source": [
    "root_dir = \"output_logs\""
   ]
  },
  {
   "cell_type": "code",
   "execution_count": 3,
   "id": "e50cc19f-4e0b-4f1e-bb94-a4737ac44936",
   "metadata": {},
   "outputs": [],
   "source": [
    "dataset = GameplayActionPairVideoDataset(root_dir=root_dir, image_size=(224, 224))"
   ]
  },
  {
   "cell_type": "code",
   "execution_count": 4,
   "id": "c4f7f2f8-44cb-4726-8c78-491b5c3804bc",
   "metadata": {
    "scrolled": true
   },
   "outputs": [
    {
     "data": {
      "text/plain": [
       "<torch.utils.data.dataloader.DataLoader at 0x79cebc5ea470>"
      ]
     },
     "execution_count": 4,
     "metadata": {},
     "output_type": "execute_result"
    }
   ],
   "source": [
    "dataloader = DataLoader(dataset, batch_size=1, shuffle=True, collate_fn=custom_collate_fn)\n",
    "dataloader"
   ]
  },
  {
   "cell_type": "code",
   "execution_count": 5,
   "id": "131543b9-bf1b-49a9-892c-d950ae0cbc31",
   "metadata": {},
   "outputs": [],
   "source": [
    "config = AgentConfig(\n",
    "    encoder_config=MultiModelEncoderConfig(\n",
    "        vit_model_name='google/vit-base-patch16-224-in21k',\n",
    "        language_model_name='bert-base-uncased',\n",
    "        cvivit_config=CvivitConfig(\n",
    "            image_size=224,\n",
    "            color_channel=3,\n",
    "            emb_size=768,\n",
    "            d_model=768,\n",
    "            patch_size=(2, 8, 8),\n",
    "            num_layers_spatial=2,\n",
    "            num_heads_spatial=4,\n",
    "            dim_feedforward_spatial=512,\n",
    "            dropout_spatial=0.1,\n",
    "            num_layers_temporal=2,\n",
    "            num_heads_temporal=4,\n",
    "            dim_feedforward_temporal=512,\n",
    "            dropout_temporal=0.1\n",
    "        )\n",
    "    ),\n",
    "    decoder_config=MultiModelDecoderConfig(\n",
    "        d_model=768,\n",
    "        dim_feedforward=512,\n",
    "        nhead=4,\n",
    "        num_layers=2\n",
    "    )\n",
    ")"
   ]
  },
  {
   "cell_type": "code",
   "execution_count": 6,
   "id": "227e2e86-d3d4-4066-a332-a7f6459c36f7",
   "metadata": {},
   "outputs": [
    {
     "name": "stderr",
     "output_type": "stream",
     "text": [
      "/home/phantichchai/anaconda3/envs/multi-transformer/lib/python3.10/site-packages/huggingface_hub/file_download.py:1132: FutureWarning: `resume_download` is deprecated and will be removed in version 1.0.0. Downloads always resume when possible. If you want to force a new download, use `force_download=True`.\n",
      "  warnings.warn(\n"
     ]
    }
   ],
   "source": [
    "agent = Agent(config=config, debug=False).to(device)"
   ]
  },
  {
   "cell_type": "code",
   "execution_count": 7,
   "id": "59db9cc5-4a73-4d03-b813-58e72ba55867",
   "metadata": {},
   "outputs": [],
   "source": [
    "criterion = ActionLoss()\n",
    "optimizer = optim.Adam(agent.parameters(), lr=0.001)"
   ]
  },
  {
   "cell_type": "code",
   "execution_count": 8,
   "id": "b41b3622-7890-4edd-b123-451f351afad4",
   "metadata": {},
   "outputs": [
    {
     "data": {
      "text/plain": [
       "{'size_all_mb': 869.2070960998535, 'parameter_size': 911421508}"
      ]
     },
     "execution_count": 8,
     "metadata": {},
     "output_type": "execute_result"
    }
   ],
   "source": [
    "agent.get_model_size() "
   ]
  },
  {
   "cell_type": "code",
   "execution_count": 9,
   "id": "e1a27841-c6a6-4dbc-a97a-6d104b7a66ba",
   "metadata": {},
   "outputs": [],
   "source": [
    "num_epochs = 1"
   ]
  },
  {
   "cell_type": "code",
   "execution_count": 10,
   "id": "a117ccd1-5bf3-4fe9-93c5-e62a4b273447",
   "metadata": {
    "scrolled": true
   },
   "outputs": [
    {
     "name": "stdout",
     "output_type": "stream",
     "text": [
      "Epoch [1/1], Loss: 155.0792\n"
     ]
    }
   ],
   "source": [
    "for epoch in range(num_epochs):\n",
    "    agent.train()\n",
    "    for batch, (instruction, frames, action) in enumerate(dataloader):\n",
    "        frames = frames.to(device)\n",
    "        action = action.to(device)\n",
    "        _, _, channel, height, width = frames.shape\n",
    "        images = frames.reshape(-1, channel, height, width).to(device)\n",
    "        logits = agent(images, frames, instruction)\n",
    "        loss = criterion(logits, action)\n",
    "        loss.backward()\n",
    "        optimizer.step()\n",
    "        optimizer.zero_grad()\n",
    "    print(f\"Epoch [{epoch+1}/{num_epochs}], Loss: {loss.item():.4f}\")"
   ]
  },
  {
   "cell_type": "code",
   "execution_count": 11,
   "id": "30b07c99-3b12-473f-b971-3ca9511ceadd",
   "metadata": {
    "scrolled": true
   },
   "outputs": [],
   "source": [
    "(instruction, frame, ground_truth) = dataset[1]\n",
    "frame = frame.unsqueeze(0).to(device)\n",
    "ground_truth = ground_truth.to(device)\n",
    "action = agent.get_actions(frame, instruction)"
   ]
  },
  {
   "cell_type": "code",
   "execution_count": 12,
   "id": "aae97e85-4779-4d7a-b79e-61bf801a3d6d",
   "metadata": {},
   "outputs": [
    {
     "name": "stdout",
     "output_type": "stream",
     "text": [
      "action shape: torch.Size([1, 26, 12])\n",
      "action: tensor([[1., 1., 1., 1., 1., 1., 1., 1., 1., 1., 1., 1., 1., 1., 1., 1., 1., 1.,\n",
      "         1., 1., 1., 1., 1., 1., 1., 1.]], device='cuda:0')\n",
      "ground_truth: tensor([0., 0., 0., 0., 0., 0., 0., 0., 0., 0., 0., 0., 0., 0., 0., 0., 0., 0., 0., 0., 0., 0., 0., 0.,\n",
      "        0., 0.], device='cuda:0')\n"
     ]
    }
   ],
   "source": [
    "INDEX = 0\n",
    "print(f\"action shape: {action.shape}\")\n",
    "print(f\"action: {action[:, :, INDEX]}\")\n",
    "print(f\"ground_truth: {ground_truth[:, INDEX]}\")"
   ]
  },
  {
   "cell_type": "markdown",
   "id": "1c567867-ce3a-4bb3-a1dd-27e282210b61",
   "metadata": {
    "jp-MarkdownHeadingCollapsed": true
   },
   "source": [
    " "
   ]
  }
 ],
 "metadata": {
  "kernelspec": {
   "display_name": "Python 3 (ipykernel)",
   "language": "python",
   "name": "python3"
  },
  "language_info": {
   "codemirror_mode": {
    "name": "ipython",
    "version": 3
   },
   "file_extension": ".py",
   "mimetype": "text/x-python",
   "name": "python",
   "nbconvert_exporter": "python",
   "pygments_lexer": "ipython3",
   "version": "3.10.13"
  }
 },
 "nbformat": 4,
 "nbformat_minor": 5
}
